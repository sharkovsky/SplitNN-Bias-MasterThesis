{
 "cells": [
  {
   "cell_type": "code",
   "execution_count": 1,
   "id": "92543ed9",
   "metadata": {},
   "outputs": [
    {
     "name": "stderr",
     "output_type": "stream",
     "text": [
      "/Users/fcremone/opt/anaconda3/envs/sci/lib/python3.10/site-packages/torchvision/io/image.py:13: UserWarning: Failed to load image Python extension: 'dlopen(/Users/fcremone/opt/anaconda3/envs/sci/lib/python3.10/site-packages/torchvision/image.so, 0x0006): Symbol not found: (__ZN3c106detail19maybe_wrap_dim_slowIxEET_S2_S2_b)\n",
      "  Referenced from: '/Users/fcremone/opt/anaconda3/envs/sci/lib/python3.10/site-packages/torchvision/image.so'\n",
      "  Expected in: '/Users/fcremone/opt/anaconda3/envs/sci/lib/python3.10/site-packages/torch/lib/libc10.dylib''If you don't plan on using image functionality from `torchvision.io`, you can ignore this warning. Otherwise, there might be something wrong with your environment. Did you have `libjpeg` or `libpng` installed before building `torchvision` from source?\n",
      "  warn(\n"
     ]
    }
   ],
   "source": [
    "import torch\n",
    "from torchvision import datasets, transforms\n",
    "from torch import nn, optim\n",
    "from torchvision.datasets import MNIST\n",
    "from torch.utils.data import DataLoader, Subset"
   ]
  },
  {
   "cell_type": "code",
   "execution_count": 2,
   "id": "36eb55c2",
   "metadata": {},
   "outputs": [
    {
     "data": {
      "text/plain": [
       "<torch._C.Generator at 0x7fb564f53130>"
      ]
     },
     "execution_count": 2,
     "metadata": {},
     "output_type": "execute_result"
    }
   ],
   "source": [
    "torch.manual_seed(424242)"
   ]
  },
  {
   "cell_type": "code",
   "execution_count": 3,
   "id": "af15beb6",
   "metadata": {},
   "outputs": [],
   "source": [
    "transform = transforms.Compose([transforms.ToTensor(), transforms.Normalize((0.5,), (0.5,))])\n",
    "\n",
    "train_dataset = MNIST(root='./data', train=True, download=True, transform=transform)\n",
    "test_dataset = MNIST(root='./data', train=False, download=True, transform=transform)\n",
    "\n",
    "\n",
    "train_subset = Subset(train_dataset, range(1000))\n",
    "test_subset = Subset(test_dataset, range(100))\n",
    "\n",
    "batch_size = 10\n",
    "train_loader = DataLoader(dataset=train_subset, batch_size=batch_size, shuffle=False)\n",
    "test_loader = DataLoader(dataset=test_subset, batch_size=batch_size, shuffle=False)"
   ]
  },
  {
   "cell_type": "code",
   "execution_count": 4,
   "id": "06aa9df5",
   "metadata": {},
   "outputs": [],
   "source": [
    "model = nn.Sequential(nn.Conv2d(1, 32, kernel_size=(3, 3), stride=(1, 1), padding='valid'),\n",
    "                      nn.ReLU(),\n",
    "                      nn.Conv2d(32, 64, kernel_size=(3, 3), stride=(1, 1), padding='valid'),\n",
    "                      nn.ReLU(),\n",
    "                      nn.MaxPool2d(kernel_size=(2, 2)),\n",
    "                      nn.Flatten(),\n",
    "                      nn.Linear(64 * 12 * 12, 10),\n",
    "                      nn.Softmax(dim=1)\n",
    "                     )\n",
    "optimizer = optim.SGD(model.parameters(), lr=1e-2, momentum=0.)                      \n",
    "loss_function = nn.CrossEntropyLoss()                      "
   ]
  },
  {
   "cell_type": "code",
   "execution_count": 5,
   "id": "205d4d41",
   "metadata": {
    "scrolled": true
   },
   "outputs": [
    {
     "name": "stdout",
     "output_type": "stream",
     "text": [
      "tensor([[[[-0.2075, -0.2756,  0.0547],\n",
      "          [-0.0247, -0.1891, -0.1381],\n",
      "          [ 0.2279, -0.3095, -0.2279]]]], grad_fn=<SliceBackward0>)\n",
      "--\n",
      "tensor([[[[-0.2353, -0.3050,  0.0243],\n",
      "          [-0.0520, -0.2151, -0.1674],\n",
      "          [ 0.2017, -0.3355, -0.2582]]]], grad_fn=<SliceBackward0>)\n"
     ]
    }
   ],
   "source": [
    "print(list(model.parameters())[0][:1])\n",
    "print('--')\n",
    "\n",
    "n_epochs = 5\n",
    "for i in range(n_epochs):\n",
    "    for batch, labels in train_loader:\n",
    "        optimizer.zero_grad()\n",
    "        logits = model(batch)\n",
    "        loss = loss_function(logits, labels)\n",
    "        loss.backward()\n",
    "        optimizer.step()\n",
    "    \n",
    "print(list(model.parameters())[0][:1])\n"
   ]
  },
  {
   "cell_type": "code",
   "execution_count": null,
   "id": "66814762",
   "metadata": {},
   "outputs": [],
   "source": []
  },
  {
   "cell_type": "code",
   "execution_count": null,
   "id": "39058fb0",
   "metadata": {},
   "outputs": [],
   "source": []
  },
  {
   "cell_type": "code",
   "execution_count": null,
   "id": "643a1d92",
   "metadata": {},
   "outputs": [],
   "source": []
  },
  {
   "cell_type": "code",
   "execution_count": null,
   "id": "ec478b61",
   "metadata": {},
   "outputs": [],
   "source": []
  },
  {
   "cell_type": "code",
   "execution_count": null,
   "id": "93ef6a37",
   "metadata": {},
   "outputs": [],
   "source": []
  },
  {
   "cell_type": "code",
   "execution_count": null,
   "id": "21219dba",
   "metadata": {},
   "outputs": [],
   "source": []
  },
  {
   "cell_type": "code",
   "execution_count": null,
   "id": "44d92d05",
   "metadata": {},
   "outputs": [],
   "source": []
  }
 ],
 "metadata": {
  "kernelspec": {
   "display_name": "Python 3 (ipykernel)",
   "language": "python",
   "name": "python3"
  },
  "language_info": {
   "codemirror_mode": {
    "name": "ipython",
    "version": 3
   },
   "file_extension": ".py",
   "mimetype": "text/x-python",
   "name": "python",
   "nbconvert_exporter": "python",
   "pygments_lexer": "ipython3",
   "version": "3.10.4"
  }
 },
 "nbformat": 4,
 "nbformat_minor": 5
}
