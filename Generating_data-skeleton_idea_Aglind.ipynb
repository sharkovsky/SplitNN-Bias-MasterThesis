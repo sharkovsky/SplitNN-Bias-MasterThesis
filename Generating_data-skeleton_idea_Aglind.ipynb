{
 "cells": [
  {
   "cell_type": "code",
   "execution_count": 1,
   "id": "8f4db1f0",
   "metadata": {},
   "outputs": [],
   "source": [
    "import numpy as np\n",
    "import matplotlib.pyplot as plt\n",
    "%matplotlib inline\n",
    "import torch\n",
    "import torch.nn as nn\n",
    "import torch.optim as optim\n",
    "from sklearn.model_selection import train_test_split"
   ]
  },
  {
   "cell_type": "code",
   "execution_count": 2,
   "id": "2d867ce7",
   "metadata": {},
   "outputs": [
    {
     "data": {
      "text/plain": [
       "<torch._C.Generator at 0x2aca70db090>"
      ]
     },
     "execution_count": 2,
     "metadata": {},
     "output_type": "execute_result"
    }
   ],
   "source": [
    "torch.manual_seed(424242)"
   ]
  },
  {
   "cell_type": "markdown",
   "id": "f9f3862f",
   "metadata": {},
   "source": [
    "--------------------------------------------------------------------------------------------------------------------------------\n",
    "###                                      Generation of Data      -         Synthetic Data - 1\n",
    "--------------------------------------------------------------------------------------------------------------------------------"
   ]
  },
  {
   "cell_type": "code",
   "execution_count": 3,
   "id": "368a862d",
   "metadata": {},
   "outputs": [],
   "source": [
    "# parameters of the (latent) gaussians\n",
    "mus = (np.array([-2., -2.]), np.array([2., 2.]))\n",
    "covs = (\n",
    "    np.array([[0.5, 0.],[0., 0.5]]),\n",
    "    np.array([[0.3, 0.1], [0.1, 0.3]]),\n",
    ")"
   ]
  },
  {
   "cell_type": "code",
   "execution_count": 4,
   "id": "8c5d4446",
   "metadata": {},
   "outputs": [],
   "source": [
    "n_features = 2\n",
    "n_classes = len(mus)\n",
    "n_samples_per_class = 10000\n",
    "\n",
    "features = []\n",
    "labels = []\n",
    "\n",
    "for i in range(n_classes):\n",
    "    features.append(\n",
    "        np.random.multivariate_normal(mean=mus[i], \n",
    "                                      cov=covs[i],\n",
    "                                      size=(n_samples_per_class,))\n",
    "    )\n",
    "    labels.append([i]*n_samples_per_class)"
   ]
  },
  {
   "cell_type": "code",
   "execution_count": 5,
   "id": "53349b3b",
   "metadata": {},
   "outputs": [],
   "source": [
    "features_orig = np.array(features).reshape(n_classes*n_samples_per_class, n_features)\n",
    "labels_orig = np.array(labels).reshape(n_classes*n_samples_per_class, 1).squeeze()"
   ]
  },
  {
   "cell_type": "markdown",
   "id": "b8cfe489",
   "metadata": {},
   "source": [
    "--------------------------------------------------------------------------------------------------------------------------------\n",
    "###                                      Generation of Data      -         Synthetic Data - 2\n",
    "--------------------------------------------------------------------------------------------------------------------------------"
   ]
  },
  {
   "cell_type": "code",
   "execution_count": 3,
   "id": "8bd35405",
   "metadata": {},
   "outputs": [],
   "source": [
    "# parameters of the (latent) gaussians\n",
    "mus = (np.array([-10., -10.]), np.array([10., 3.]))\n",
    "covs = (\n",
    "    np.array([[0.2, 0.],[0., 0.10]]),\n",
    "    np.array([[0.9, 0.8], [0.8, 0.6]]),\n",
    ")"
   ]
  },
  {
   "cell_type": "code",
   "execution_count": 4,
   "id": "d1bc9517",
   "metadata": {},
   "outputs": [
    {
     "name": "stderr",
     "output_type": "stream",
     "text": [
      "C:\\Users\\Raffaele\\AppData\\Local\\Temp\\ipykernel_12496\\3180878226.py:10: RuntimeWarning: covariance is not symmetric positive-semidefinite.\n",
      "  np.random.multivariate_normal(mean=mus[i],\n"
     ]
    }
   ],
   "source": [
    "n_features = 2\n",
    "n_classes = len(mus)\n",
    "n_samples_per_class = 10000\n",
    "\n",
    "features = []\n",
    "labels = []\n",
    "\n",
    "for i in range(n_classes):\n",
    "    features.append(\n",
    "        np.random.multivariate_normal(mean=mus[i], \n",
    "                                      cov=covs[i],\n",
    "                                      size=(n_samples_per_class,))\n",
    "    )\n",
    "    labels.append([i]*n_samples_per_class)"
   ]
  },
  {
   "cell_type": "code",
   "execution_count": 5,
   "id": "0e0781e7",
   "metadata": {},
   "outputs": [],
   "source": [
    "features_orig = np.array(features).reshape(n_classes*n_samples_per_class, n_features)\n",
    "labels_orig = np.array(labels).reshape(n_classes*n_samples_per_class, 1).squeeze()"
   ]
  },
  {
   "cell_type": "code",
   "execution_count": 23,
   "id": "01e82a39",
   "metadata": {},
   "outputs": [],
   "source": [
    "#import pickle\n",
    "#with open('features_orig.pkl', 'wb') as f:\n",
    "#    pickle.dump(features_orig, f)"
   ]
  },
  {
   "attachments": {
    "image.png": {
     "image/png": "[encoded data removed]"
    }
   },
   "cell_type": "markdown",
   "id": "fc53bfa3",
   "metadata": {},
   "source": [
    "![image.png](attachment:image.png)"
   ]
  },
  {
   "cell_type": "markdown",
   "id": "6d425e70",
   "metadata": {},
   "source": [
    "## View latent dataset"
   ]
  },
  {
   "cell_type": "code",
   "execution_count": 6,
   "id": "3fa34ce6",
   "metadata": {},
   "outputs": [
    {
     "data": {
      "text/plain": [
       "<matplotlib.collections.PathCollection at 0x2acb4670150>"
      ]
     },
     "execution_count": 6,
     "metadata": {},
     "output_type": "execute_result"
    },
    {
     "data": {
      "image/png": "[encoded data removed]",
      "text/plain": [
       "<Figure size 640x480 with 1 Axes>"
      ]
     },
     "metadata": {},
     "output_type": "display_data"
    }
   ],
   "source": [
    "plt.scatter(\n",
    "    features_orig[:,0], features_orig[:,1], c=labels_orig\n",
    ")"
   ]
  },
  {
   "cell_type": "code",
   "execution_count": 7,
   "id": "f80ccc3f",
   "metadata": {},
   "outputs": [
    {
     "data": {
      "text/plain": [
       "(20000,)"
      ]
     },
     "execution_count": 7,
     "metadata": {},
     "output_type": "execute_result"
    }
   ],
   "source": [
    "labels_orig.shape"
   ]
  },
  {
   "cell_type": "code",
   "execution_count": 7,
   "id": "c6dd8fd5",
   "metadata": {},
   "outputs": [],
   "source": [
    "def warp1(a):\n",
    "    x = a[:,0]\n",
    "    y = a[:,1]\n",
    "    out1 = x*y\n",
    "    out2 = x + np.exp(-y/10.)\n",
    "    out3 = (np.log(x*x*y*y) + 10*x*x*y - x)/100.\n",
    "    return np.stack((out1, out2, out3), axis=-1)"
   ]
  },
  {
   "cell_type": "code",
   "execution_count": 8,
   "id": "3a1d2d4b",
   "metadata": {},
   "outputs": [],
   "source": [
    "def warp2(a):\n",
    "    x = a[:,0]\n",
    "    y = a[:,1]\n",
    "    out1 = np.log(x*x*y*y) + 10*x*y*np.sin(x)\n",
    "    out2 = y - 10*x*y\n",
    "    out3 = x*y*np.tan(y)\n",
    "    return np.stack((out1, out2, out3), axis=-1)"
   ]
  },
  {
   "cell_type": "code",
   "execution_count": 9,
   "id": "58cb40c7",
   "metadata": {},
   "outputs": [],
   "source": [
    "warped_features_1 = warp1(features_orig)\n",
    "warped_features_2 = warp2(features_orig)"
   ]
  },
  {
   "cell_type": "markdown",
   "id": "96d633b3",
   "metadata": {},
   "source": [
    "### Function 2"
   ]
  },
  {
   "cell_type": "code",
   "execution_count": 7,
   "id": "d56c8344",
   "metadata": {},
   "outputs": [],
   "source": [
    "#def warp1(a):\n",
    "    x = a[:,0]\n",
    "    y = a[:,1]\n",
    "    out1 = x**y\n",
    "    out2 = np.exp(x) + np.exp(-y/10.)\n",
    "    out3 = (np.log(x**y) - 10*x*x*y - x**y)/100.\n",
    "    return np.stack((out1, out2, out3), axis=-1)"
   ]
  },
  {
   "cell_type": "code",
   "execution_count": 8,
   "id": "4cae0cab",
   "metadata": {},
   "outputs": [],
   "source": [
    "#def warp2(a):\n",
    "    x = a[:,0]\n",
    "    y = a[:,1]\n",
    "    out1 = np.log(x*x*y*y) + 10*x*np.cos(y)*np.sin(x)\n",
    "    out2 = np.exp(y) - 10*x*y\n",
    "    out3 = np.cos(x)*y*np.tan(y)\n",
    "    return np.stack((out1, out2, out3), axis=-1)"
   ]
  },
  {
   "cell_type": "code",
   "execution_count": 9,
   "id": "46d14922",
   "metadata": {},
   "outputs": [
    {
     "name": "stderr",
     "output_type": "stream",
     "text": [
      "C:\\Users\\Raffaele\\AppData\\Local\\Temp\\ipykernel_16560\\171495252.py:4: RuntimeWarning: invalid value encountered in power\n",
      "  out1 = x**y\n",
      "C:\\Users\\Raffaele\\AppData\\Local\\Temp\\ipykernel_16560\\171495252.py:6: RuntimeWarning: invalid value encountered in power\n",
      "  out3 = (np.log(x**y) - 10*x*x*y - x**y)/100.\n"
     ]
    }
   ],
   "source": [
    "warped_features_1 = warp1(features_orig)\n",
    "warped_features_2 = warp2(features_orig)"
   ]
  },
  {
   "attachments": {
    "image.png": {
     "image/png": "[encoded data removed]"
    }
   },
   "cell_type": "markdown",
   "id": "6fbccb2c",
   "metadata": {},
   "source": [
    "![image.png](attachment:image.png)"
   ]
  },
  {
   "cell_type": "markdown",
   "id": "39f7809a",
   "metadata": {},
   "source": [
    "## View dataset for client 1"
   ]
  },
  {
   "cell_type": "code",
   "execution_count": 10,
   "id": "8cd58158",
   "metadata": {},
   "outputs": [
    {
     "data": {
      "text/plain": [
       "<matplotlib.collections.PathCollection at 0x2acb66da810>"
      ]
     },
     "execution_count": 10,
     "metadata": {},
     "output_type": "execute_result"
    },
    {
     "data": {
      "image/png": "[encoded data removed]",
      "text/plain": [
       "<Figure size 1000x300 with 3 Axes>"
      ]
     },
     "metadata": {},
     "output_type": "display_data"
    }
   ],
   "source": [
    "fig, ax = plt.subplots(1,3,figsize=(10,3))\n",
    "ax[0].scatter(\n",
    "    warped_features_1[:,0], warped_features_1[:,1], c=labels_orig\n",
    ")\n",
    "ax[1].scatter(\n",
    "    warped_features_1[:,0], warped_features_1[:,2], c=labels_orig\n",
    ")\n",
    "ax[2].scatter(\n",
    "    warped_features_1[:,1], warped_features_1[:,2], c=labels_orig\n",
    ")"
   ]
  },
  {
   "cell_type": "markdown",
   "id": "e5287c01",
   "metadata": {},
   "source": [
    "## View dataset for client 2"
   ]
  },
  {
   "cell_type": "code",
   "execution_count": 11,
   "id": "b3c3a669",
   "metadata": {},
   "outputs": [
    {
     "data": {
      "text/plain": [
       "<matplotlib.collections.PathCollection at 0x2acb6921c10>"
      ]
     },
     "execution_count": 11,
     "metadata": {},
     "output_type": "execute_result"
    },
    {
     "data": {
      "image/png": "[encoded data removed]",
      "text/plain": [
       "<Figure size 1000x300 with 3 Axes>"
      ]
     },
     "metadata": {},
     "output_type": "display_data"
    }
   ],
   "source": [
    "fig, ax = plt.subplots(1,3,figsize=(10,3))\n",
    "ax[0].scatter(\n",
    "    warped_features_2[:,0], warped_features_2[:,1], c=labels_orig\n",
    ")\n",
    "ax[1].scatter(\n",
    "    warped_features_2[:,0], warped_features_2[:,2], c=labels_orig\n",
    ")\n",
    "ax[2].scatter(\n",
    "    warped_features_2[:,1], warped_features_2[:,2], c=labels_orig\n",
    ")"
   ]
  },
  {
   "cell_type": "markdown",
   "id": "fae9aa57",
   "metadata": {},
   "source": [
    "### Clients"
   ]
  },
  {
   "cell_type": "code",
   "execution_count": 12,
   "id": "4a1849bf",
   "metadata": {},
   "outputs": [],
   "source": [
    "class Client1(nn.Module):\n",
    "    def __init__(self):\n",
    "        super(Client1, self).__init__()\n",
    "         \n",
    "        self.num_samples = 10\n",
    "        \n",
    "        \n",
    "        \n",
    "\n",
    "        self.encoder_model = nn.Sequential(nn.Linear(3, 20, dtype=torch.float64),\n",
    "                                           nn.ReLU(),\n",
    "                                           nn.Linear(20, 10, dtype=torch.float64),\n",
    "                                           nn.ReLU()\n",
    "                                    )\n",
    "\n",
    "\n",
    "                            \n",
    "        \n",
    "        self.decoder_model = nn.Sequential(nn.Linear(10, 8, dtype=torch.float64),\n",
    "                                           nn.ReLU(),\n",
    "                                           nn.Linear(8, 5, dtype=torch.float64),\n",
    "                                           nn.ReLU(),\n",
    "                                           nn.Linear(5, 3, dtype=torch.float64),\n",
    "                                           nn.Softmax(dim=1))\n",
    "        \n",
    "        self.optimizer = optim.Adam(self.parameters(), lr=0.001)\n",
    "        self.loss_function = nn.CrossEntropyLoss()\n",
    "\n",
    "    def forward(self, inputs):\n",
    "        outputs_encoder = self.encoder_model(inputs)\n",
    "        outputs_class = self.decoder_model(outputs_encoder)\n",
    "        latent_parameters = list(self.decoder_model.parameters())\n",
    "        return outputs_class, latent_parameters\n",
    "\n",
    "\n",
    "    def update(self, latent_parameters):\n",
    "        # Get the parameters of the latent model\n",
    "        latent_params = self.decoder_model.parameters()\n",
    "    \n",
    "        # Iterate over the parameters and update them with new values\n",
    "        for param, new_value in zip(latent_params, latent_parameters):\n",
    "            param.data.copy_(new_value)\n",
    "    \n",
    "    def train_step(self, inputs, labels):\n",
    "        \n",
    "        #Forward pass\n",
    "        logits, latent_parameters = self.forward(inputs)\n",
    "\n",
    "        #Compute the loss\n",
    "        labels = labels.long()\n",
    "        loss = self.loss_function(logits, labels)\n",
    "\n",
    "        #Zero the gradients\n",
    "        self.optimizer.zero_grad()\n",
    "\n",
    "        #Backward pass\n",
    "        loss.backward()\n",
    "\n",
    "        #updare the parameters\n",
    "        self.optimizer.step()\n",
    "\n",
    "        return loss.item(), latent_parameters"
   ]
  },
  {
   "cell_type": "code",
   "execution_count": 13,
   "id": "8539df27",
   "metadata": {},
   "outputs": [],
   "source": [
    "class Client2(nn.Module):\n",
    "    def __init__(self):\n",
    "        super(Client2, self).__init__()\n",
    "\n",
    "        \n",
    "        \n",
    "        \n",
    "        \n",
    "\n",
    "        self.encoder_model = nn.Sequential(nn.Linear(3, 20, dtype=torch.float64),\n",
    "                                           nn.ReLU(),\n",
    "                                           nn.Linear(20, 10, dtype=torch.float64),\n",
    "                                           nn.ReLU()\n",
    "                                    )\n",
    "\n",
    "\n",
    "                            \n",
    "        \n",
    "        self.decoder_model = nn.Sequential(nn.Linear(10, 8, dtype=torch.float64),\n",
    "                                           nn.ReLU(),\n",
    "                                           nn.Linear(8, 5, dtype=torch.float64),\n",
    "                                           nn.ReLU(),\n",
    "                                           nn.Linear(5, 3, dtype=torch.float64),\n",
    "                                           nn.Softmax(dim=1))\n",
    "        \n",
    "        self.optimizer = optim.Adam(self.parameters(), lr=0.001)\n",
    "        self.loss_function = nn.CrossEntropyLoss()\n",
    "\n",
    "    def forward(self, inputs):\n",
    "        outputs_encoder = self.encoder_model(inputs)\n",
    "        outputs_class = self.decoder_model(outputs_encoder)\n",
    "        latent_parameters = list(self.decoder_model.parameters())\n",
    "        return outputs_class, latent_parameters\n",
    "\n",
    "\n",
    "    def update(self, latent_parameters):\n",
    "        # Get the parameters of the latent model\n",
    "        latent_params = self.decoder_model.parameters()\n",
    "    \n",
    "        # Iterate over the parameters and update them with new values\n",
    "        for param, new_value in zip(latent_params, latent_parameters):\n",
    "            param.data.copy_(new_value)\n",
    "    \n",
    "    def train_step(self, inputs, labels):\n",
    "        \n",
    "        #Forward pass\n",
    "        logits, latent_parameters = self.forward(inputs)\n",
    "\n",
    "        #Compute the loss\n",
    "        labels = labels.long()\n",
    "        loss = self.loss_function(logits, labels)\n",
    "\n",
    "        #Zero the gradients\n",
    "        self.optimizer.zero_grad()\n",
    "\n",
    "        #Backward pass\n",
    "        loss.backward()\n",
    "\n",
    "        #updare the parameters\n",
    "        self.optimizer.step()\n",
    "\n",
    "        return loss.item(), latent_parameters"
   ]
  },
  {
   "cell_type": "markdown",
   "id": "e74c3e72",
   "metadata": {},
   "source": [
    "### Preparing the data"
   ]
  },
  {
   "cell_type": "code",
   "execution_count": 14,
   "id": "0f6bbc5a",
   "metadata": {},
   "outputs": [],
   "source": [
    "X_train_C1, X_test_C1, y_train_C1, y_test_C1 = train_test_split(torch.tensor(warped_features_1), torch.tensor(labels_orig), test_size=0.2, random_state=42)\n",
    "X_train_C2, X_test_C2, y_train_C2, y_test_C2 = train_test_split(torch.tensor(warped_features_2), torch.tensor(labels_orig), test_size=0.2, random_state=42)"
   ]
  },
  {
   "cell_type": "code",
   "execution_count": 15,
   "id": "5109230d",
   "metadata": {},
   "outputs": [],
   "source": [
    "X_train_all_C1 = torch.utils.data.TensorDataset(torch.tensor(np.vstack(X_train_C1)), torch.tensor(np.hstack(y_train_C1)))\n",
    "X_test_all_C1 = torch.utils.data.TensorDataset(torch.tensor(np.vstack(X_test_C1)), torch.tensor(np.hstack(y_test_C1)))"
   ]
  },
  {
   "cell_type": "code",
   "execution_count": 16,
   "id": "08b581bd",
   "metadata": {},
   "outputs": [],
   "source": [
    "X_train_all_C2 = torch.utils.data.TensorDataset(torch.tensor(np.vstack(X_train_C2)), torch.tensor(np.hstack(y_train_C2)))\n",
    "X_test_all_C2 = torch.utils.data.TensorDataset(torch.tensor(np.vstack(X_test_C2)), torch.tensor(np.hstack(y_test_C2)))"
   ]
  },
  {
   "cell_type": "code",
   "execution_count": 17,
   "id": "9e62f383",
   "metadata": {},
   "outputs": [],
   "source": [
    "trainloader_C1= torch.utils.data.DataLoader(X_train_all_C1, batch_size=64, shuffle=True, num_workers=2)\n",
    "testloader_C1 = torch.utils.data.DataLoader(X_test_all_C1, batch_size=64, shuffle=False, num_workers=2)"
   ]
  },
  {
   "cell_type": "code",
   "execution_count": 18,
   "id": "56cc1ac7",
   "metadata": {},
   "outputs": [],
   "source": [
    "trainloader_C2 = torch.utils.data.DataLoader(X_train_all_C2, batch_size=64, shuffle=True, num_workers=2)\n",
    "testloader_C2 = torch.utils.data.DataLoader(X_test_all_C2, batch_size=64, shuffle=False, num_workers=2)"
   ]
  },
  {
   "cell_type": "markdown",
   "id": "809f4b83",
   "metadata": {},
   "source": [
    "### Training"
   ]
  },
  {
   "cell_type": "code",
   "execution_count": 19,
   "id": "a551b19c",
   "metadata": {},
   "outputs": [
    {
     "name": "stdout",
     "output_type": "stream",
     "text": [
      "WARNING:tensorflow:From C:\\Users\\Raffaele\\anaconda3\\Lib\\site-packages\\keras\\src\\losses.py:2976: The name tf.losses.sparse_softmax_cross_entropy is deprecated. Please use tf.compat.v1.losses.sparse_softmax_cross_entropy instead.\n",
      "\n",
      "WARNING:tensorflow:From C:\\Users\\Raffaele\\anaconda3\\Lib\\site-packages\\keras\\src\\backend.py:873: The name tf.get_default_graph is deprecated. Please use tf.compat.v1.get_default_graph instead.\n",
      "\n"
     ]
    },
    {
     "name": "stderr",
     "output_type": "stream",
     "text": [
      "C:\\Users\\Raffaele\\AppData\\Local\\Temp\\ipykernel_12496\\557503963.py:15: UserWarning: To copy construct from a tensor, it is recommended to use sourceTensor.clone().detach() or sourceTensor.clone().detach().requires_grad_(True), rather than torch.tensor(sourceTensor).\n",
      "  x_c1 = torch.tensor(x_c1)\n",
      "C:\\Users\\Raffaele\\AppData\\Local\\Temp\\ipykernel_12496\\557503963.py:16: UserWarning: To copy construct from a tensor, it is recommended to use sourceTensor.clone().detach() or sourceTensor.clone().detach().requires_grad_(True), rather than torch.tensor(sourceTensor).\n",
      "  y_c1 = torch.tensor(y_c1, dtype=torch.long)\n",
      "C:\\Users\\Raffaele\\AppData\\Local\\Temp\\ipykernel_12496\\557503963.py:17: UserWarning: To copy construct from a tensor, it is recommended to use sourceTensor.clone().detach() or sourceTensor.clone().detach().requires_grad_(True), rather than torch.tensor(sourceTensor).\n",
      "  x_c2 = torch.tensor(x_c2)\n",
      "C:\\Users\\Raffaele\\AppData\\Local\\Temp\\ipykernel_12496\\557503963.py:18: UserWarning: To copy construct from a tensor, it is recommended to use sourceTensor.clone().detach() or sourceTensor.clone().detach().requires_grad_(True), rather than torch.tensor(sourceTensor).\n",
      "  y_c2 = torch.tensor(y_c2, dtype=torch.long)\n"
     ]
    },
    {
     "name": "stdout",
     "output_type": "stream",
     "text": [
      "Epoch [1/10], Loss: 0.5528\n",
      "Epoch [1/10], Loss: 0.7226\n",
      "Epoch [2/10], Loss: 0.5515\n",
      "Epoch [2/10], Loss: 0.6787\n",
      "2\n",
      "Epoch [3/10], Loss: 0.5515\n",
      "Epoch [3/10], Loss: 0.9421\n",
      "Epoch [4/10], Loss: 0.5515\n",
      "Epoch [4/10], Loss: 1.0358\n",
      "4\n",
      "Epoch [5/10], Loss: 0.5515\n",
      "Epoch [5/10], Loss: 1.0202\n",
      "Epoch [6/10], Loss: 0.5515\n",
      "Epoch [6/10], Loss: 1.1452\n",
      "6\n",
      "Epoch [7/10], Loss: 1.0514\n",
      "Epoch [7/10], Loss: 1.0202\n",
      "Epoch [8/10], Loss: 0.5515\n",
      "Epoch [8/10], Loss: 1.0998\n",
      "8\n",
      "Epoch [9/10], Loss: 0.5516\n",
      "Epoch [9/10], Loss: 1.0514\n",
      "Epoch [10/10], Loss: 0.5515\n",
      "Epoch [10/10], Loss: 1.1296\n",
      "10\n"
     ]
    }
   ],
   "source": [
    "client1 = Client1()\n",
    "client2 = Client2()\n",
    "\n",
    "\n",
    "num_epochs = 10\n",
    "latent_parameters = []\n",
    "\n",
    "#training loop\n",
    "for epoch in range(num_epochs):\n",
    "    \n",
    "    client1.train()\n",
    "    client2.train()\n",
    "    \n",
    "    for  i, ((x_c1, y_c1), (x_c2, y_c2)) in enumerate(zip(trainloader_C1, trainloader_C2)): \n",
    "        x_c1 = torch.tensor(x_c1)\n",
    "        y_c1 = torch.tensor(y_c1, dtype=torch.long)\n",
    "        x_c2 = torch.tensor(x_c2)\n",
    "        y_c2 = torch.tensor(y_c2, dtype=torch.long)\n",
    "        loss_1, latent_parameters_1 = client1.train_step(x_c1, y_c1)\n",
    "        loss_2, latent_parameters_2 = client2.train_step(x_c2, y_c2)\n",
    "        \n",
    "    print(f\"Epoch [{epoch+1}/{num_epochs}], Loss: {loss_1:.4f}\")\n",
    "    print(f\"Epoch [{epoch+1}/{num_epochs}], Loss: {loss_2:.4f}\")\n",
    "    if ((epoch+1) % 2 == 0):\n",
    "        print(epoch+1)\n",
    "        latent_parameters =[(x + y) / 2 for x, y in zip(latent_parameters_1, latent_parameters_2)]\n",
    "        client1.update(latent_parameters)\n",
    "        client2.update(latent_parameters)\n",
    "    \n",
    "    latent_parameters = []"
   ]
  },
  {
   "cell_type": "markdown",
   "id": "e4b27481",
   "metadata": {},
   "source": [
    "### Testing"
   ]
  },
  {
   "cell_type": "code",
   "execution_count": 20,
   "id": "ccaa2db8",
   "metadata": {},
   "outputs": [
    {
     "name": "stdout",
     "output_type": "stream",
     "text": [
      "Accuracy on test set: 100.00%\n",
      "Accuracy on test set: 49.53%\n"
     ]
    }
   ],
   "source": [
    "total_accuracy_1 = 0.0\n",
    "total_samples_1 = 0\n",
    "total_accuracy_2 = 0.0\n",
    "total_samples_2 = 0\n",
    "\n",
    "for i, ((x_c1, y_c1), (x_c2, y_c2)) in enumerate(zip(testloader_C1, testloader_C2)):\n",
    "    logits_1, _ = client1.forward(x_c1)\n",
    "    logits_2, _ = client2.forward(x_c2)\n",
    "        \n",
    "\n",
    "    _, predictions_1 = torch.max(logits_1, 1)\n",
    "    _, predictions_2 = torch.max(logits_2, 1)\n",
    "        \n",
    "    acc_1 = torch.mean((predictions_1 == y_c1).float())\n",
    "    acc_2 = torch.mean((predictions_2 == y_c2).float())\n",
    "    \n",
    "    total_accuracy_1 += acc_1.item() * x_c1.size(0)\n",
    "    total_samples_1 += x_c1.size(0)\n",
    "    total_accuracy_2 += acc_2.item() * x_c2.size(0)\n",
    "    total_samples_2 += x_c2.size(0)\n",
    "\n",
    "final_accuracy_1 = total_accuracy_1 / total_samples_1\n",
    "final_accuracy_2 = total_accuracy_2 / total_samples_2\n",
    "print(f\"Accuracy on test set: {final_accuracy_1 * 100:.2f}%\")\n",
    "print(f\"Accuracy on test set: {final_accuracy_2 * 100:.2f}%\")"
   ]
  },
  {
   "cell_type": "code",
   "execution_count": null,
   "id": "6c509bae",
   "metadata": {},
   "outputs": [],
   "source": []
  }
 ],
 "metadata": {
  "kernelspec": {
   "display_name": "Python 3 (ipykernel)",
   "language": "python",
   "name": "python3"
  },
  "language_info": {
   "codemirror_mode": {
    "name": "ipython",
    "version": 3
   },
   "file_extension": ".py",
   "mimetype": "text/x-python",
   "name": "python",
   "nbconvert_exporter": "python",
   "pygments_lexer": "ipython3",
   "version": "3.11.4"
  }
 },
 "nbformat": 4,
 "nbformat_minor": 5
}
