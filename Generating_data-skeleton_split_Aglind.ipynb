{
 "cells": [
  {
   "cell_type": "code",
   "execution_count": 1,
   "id": "8f4db1f0",
   "metadata": {},
   "outputs": [],
   "source": [
    "import numpy as np\n",
    "import matplotlib.pyplot as plt\n",
    "%matplotlib inline\n",
    "import torch\n",
    "import torch.nn as nn\n",
    "import torch.optim as optim\n",
    "from sklearn.model_selection import train_test_split"
   ]
  },
  {
   "cell_type": "code",
   "execution_count": 2,
   "id": "2d867ce7",
   "metadata": {},
   "outputs": [
    {
     "data": {
      "text/plain": [
       "<torch._C.Generator at 0x24eda84b090>"
      ]
     },
     "execution_count": 2,
     "metadata": {},
     "output_type": "execute_result"
    }
   ],
   "source": [
    "torch.manual_seed(424242)"
   ]
  },
  {
   "cell_type": "markdown",
   "id": "f9f3862f",
   "metadata": {},
   "source": [
    "--------------------------------------------------------------------------------------------------------------------------------\n",
    "###                                      Generation of Data      -         Synthetic Data\n",
    "--------------------------------------------------------------------------------------------------------------------------------"
   ]
  },
  {
   "cell_type": "code",
   "execution_count": 3,
   "id": "368a862d",
   "metadata": {},
   "outputs": [],
   "source": [
    "# parameters of the (latent) gaussians\n",
    "mus = (np.array([-2., -2.]), np.array([2., 2.]))\n",
    "covs = (\n",
    "    np.array([[0.5, 0.],[0., 0.5]]),\n",
    "    np.array([[0.3, 0.1], [0.1, 0.3]]),\n",
    ")"
   ]
  },
  {
   "cell_type": "code",
   "execution_count": 4,
   "id": "8c5d4446",
   "metadata": {},
   "outputs": [],
   "source": [
    "n_features = 2\n",
    "n_classes = len(mus)\n",
    "n_samples_per_class = 10000\n",
    "\n",
    "features = []\n",
    "labels = []\n",
    "\n",
    "for i in range(n_classes):\n",
    "    features.append(\n",
    "        np.random.multivariate_normal(mean=mus[i], \n",
    "                                      cov=covs[i],\n",
    "                                      size=(n_samples_per_class,))\n",
    "    )\n",
    "    labels.append([i]*n_samples_per_class)"
   ]
  },
  {
   "cell_type": "code",
   "execution_count": 5,
   "id": "53349b3b",
   "metadata": {},
   "outputs": [],
   "source": [
    "features_orig = np.array(features).reshape(n_classes*n_samples_per_class, n_features)\n",
    "labels_orig = np.array(labels).reshape(n_classes*n_samples_per_class, 1).squeeze()"
   ]
  },
  {
   "cell_type": "markdown",
   "id": "d70d4806",
   "metadata": {},
   "source": [
    "### Data Generation 2"
   ]
  },
  {
   "cell_type": "code",
   "execution_count": 3,
   "id": "df72dc2b",
   "metadata": {},
   "outputs": [],
   "source": [
    "# parameters of the (latent) gaussians\n",
    "mus = (np.array([-5., -3.]), np.array([5., 3.]))\n",
    "covs = (\n",
    "    np.array([[0.1, 0.],[0., 0.8]]),\n",
    "    np.array([[0.3, 0.3], [0.9, 0.1]]),\n",
    ")"
   ]
  },
  {
   "cell_type": "code",
   "execution_count": 4,
   "id": "50fcb39a",
   "metadata": {},
   "outputs": [
    {
     "name": "stderr",
     "output_type": "stream",
     "text": [
      "C:\\Users\\Raffaele\\AppData\\Local\\Temp\\ipykernel_2704\\3180878226.py:10: RuntimeWarning: covariance is not symmetric positive-semidefinite.\n",
      "  np.random.multivariate_normal(mean=mus[i],\n"
     ]
    }
   ],
   "source": [
    "n_features = 2\n",
    "n_classes = len(mus)\n",
    "n_samples_per_class = 10000\n",
    "\n",
    "features = []\n",
    "labels = []\n",
    "\n",
    "for i in range(n_classes):\n",
    "    features.append(\n",
    "        np.random.multivariate_normal(mean=mus[i], \n",
    "                                      cov=covs[i],\n",
    "                                      size=(n_samples_per_class,))\n",
    "    )\n",
    "    labels.append([i]*n_samples_per_class)"
   ]
  },
  {
   "cell_type": "code",
   "execution_count": 5,
   "id": "259095e8",
   "metadata": {},
   "outputs": [],
   "source": [
    "features_orig = np.array(features).reshape(n_classes*n_samples_per_class, n_features)\n",
    "labels_orig = np.array(labels).reshape(n_classes*n_samples_per_class, 1).squeeze()"
   ]
  },
  {
   "attachments": {
    "image.png": {
     "image/png": "[encoded data removed]"
    }
   },
   "cell_type": "markdown",
   "id": "973536a1",
   "metadata": {},
   "source": [
    "![image.png](attachment:image.png)"
   ]
  },
  {
   "cell_type": "markdown",
   "id": "6d425e70",
   "metadata": {},
   "source": [
    "## View latent dataset"
   ]
  },
  {
   "cell_type": "code",
   "execution_count": 6,
   "id": "3fa34ce6",
   "metadata": {},
   "outputs": [
    {
     "data": {
      "text/plain": [
       "<matplotlib.collections.PathCollection at 0x23cf12222d0>"
      ]
     },
     "execution_count": 6,
     "metadata": {},
     "output_type": "execute_result"
    },
    {
     "data": {
      "image/png": "[encoded data removed]",
      "text/plain": [
       "<Figure size 640x480 with 1 Axes>"
      ]
     },
     "metadata": {},
     "output_type": "display_data"
    }
   ],
   "source": [
    "plt.scatter(\n",
    "    features_orig[:,0], features_orig[:,1], c=labels_orig\n",
    ")"
   ]
  },
  {
   "cell_type": "code",
   "execution_count": 7,
   "id": "f80ccc3f",
   "metadata": {},
   "outputs": [
    {
     "data": {
      "text/plain": [
       "(20000,)"
      ]
     },
     "execution_count": 7,
     "metadata": {},
     "output_type": "execute_result"
    }
   ],
   "source": [
    "labels_orig.shape"
   ]
  },
  {
   "cell_type": "code",
   "execution_count": 8,
   "id": "c6dd8fd5",
   "metadata": {},
   "outputs": [],
   "source": [
    "def warp1(a):\n",
    "    x = a[:,0]\n",
    "    y = a[:,1]\n",
    "    out1 = x*y\n",
    "    out2 = x + np.exp(-y/10.)\n",
    "    out3 = (np.log(x*x*y*y) + 10*x*x*y - x)/100.\n",
    "    return np.stack((out1, out2, out3), axis=-1)"
   ]
  },
  {
   "cell_type": "code",
   "execution_count": 9,
   "id": "3a1d2d4b",
   "metadata": {},
   "outputs": [],
   "source": [
    "def warp2(a):\n",
    "    x = a[:,0]\n",
    "    y = a[:,1]\n",
    "    out1 = np.log(x*x*y*y) + 10*x*y*np.sin(x)\n",
    "    out2 = y - 10*x*y\n",
    "    out3 = x*y*np.tan(y)\n",
    "    return np.stack((out1, out2, out3), axis=-1)"
   ]
  },
  {
   "cell_type": "code",
   "execution_count": 10,
   "id": "58cb40c7",
   "metadata": {},
   "outputs": [],
   "source": [
    "warped_features_1 = warp1(features_orig)\n",
    "warped_features_2 = warp2(features_orig)"
   ]
  },
  {
   "cell_type": "markdown",
   "id": "577499f0",
   "metadata": {},
   "source": [
    "### Function 2"
   ]
  },
  {
   "cell_type": "code",
   "execution_count": 6,
   "id": "0ed7d9ea",
   "metadata": {},
   "outputs": [],
   "source": [
    "def warp1(a):\n",
    "    x = a[:,0]\n",
    "    y = a[:,1]\n",
    "    out1 = x**y\n",
    "    out2 = np.exp(x) + np.exp(-y/10.)\n",
    "    out3 = (np.log(x**y) - 10*x*x*y - x**y)/100.\n",
    "    return np.stack((out1, out2, out3), axis=-1)"
   ]
  },
  {
   "cell_type": "code",
   "execution_count": 7,
   "id": "4cdece67",
   "metadata": {},
   "outputs": [],
   "source": [
    "def warp2(a):\n",
    "    x = a[:,0]\n",
    "    y = a[:,1]\n",
    "    out1 = np.log(x*x*y*y) + 10*x*np.cos(y)*np.sin(x)\n",
    "    out2 = np.exp(y) - 10*x*y\n",
    "    out3 = np.cos(x)*y*np.tan(y)\n",
    "    return np.stack((out1, out2, out3), axis=-1)"
   ]
  },
  {
   "cell_type": "code",
   "execution_count": 8,
   "id": "46effe8c",
   "metadata": {},
   "outputs": [
    {
     "name": "stderr",
     "output_type": "stream",
     "text": [
      "C:\\Users\\Raffaele\\AppData\\Local\\Temp\\ipykernel_9876\\171495252.py:4: RuntimeWarning: invalid value encountered in power\n",
      "  out1 = x**y\n",
      "C:\\Users\\Raffaele\\AppData\\Local\\Temp\\ipykernel_9876\\171495252.py:6: RuntimeWarning: invalid value encountered in power\n",
      "  out3 = (np.log(x**y) - 10*x*x*y - x**y)/100.\n"
     ]
    }
   ],
   "source": [
    "warped_features_1 = warp1(features_orig)\n",
    "warped_features_2 = warp2(features_orig)"
   ]
  },
  {
   "attachments": {
    "image.png": {
     "image/png": "[encoded data removed]"
    }
   },
   "cell_type": "markdown",
   "id": "2f4cc996",
   "metadata": {},
   "source": [
    "![image.png](attachment:image.png)"
   ]
  },
  {
   "cell_type": "markdown",
   "id": "39f7809a",
   "metadata": {},
   "source": [
    "## View dataset for client 1"
   ]
  },
  {
   "cell_type": "code",
   "execution_count": 10,
   "id": "8cd58158",
   "metadata": {},
   "outputs": [
    {
     "data": {
      "text/plain": [
       "<matplotlib.collections.PathCollection at 0x24ee9c57410>"
      ]
     },
     "execution_count": 10,
     "metadata": {},
     "output_type": "execute_result"
    },
    {
     "data": {
      "image/png": "[encoded data removed]",
      "text/plain": [
       "<Figure size 1000x300 with 3 Axes>"
      ]
     },
     "metadata": {},
     "output_type": "display_data"
    }
   ],
   "source": [
    "fig, ax = plt.subplots(1,3,figsize=(10,3))\n",
    "ax[0].scatter(\n",
    "    warped_features_1[:,0], warped_features_1[:,1], c=labels_orig\n",
    ")\n",
    "ax[1].scatter(\n",
    "    warped_features_1[:,0], warped_features_1[:,2], c=labels_orig\n",
    ")\n",
    "ax[2].scatter(\n",
    "    warped_features_1[:,1], warped_features_1[:,2], c=labels_orig\n",
    ")"
   ]
  },
  {
   "cell_type": "markdown",
   "id": "e5287c01",
   "metadata": {},
   "source": [
    "## View dataset for client 2"
   ]
  },
  {
   "cell_type": "code",
   "execution_count": 11,
   "id": "b3c3a669",
   "metadata": {},
   "outputs": [
    {
     "data": {
      "text/plain": [
       "<matplotlib.collections.PathCollection at 0x24ee9c55850>"
      ]
     },
     "execution_count": 11,
     "metadata": {},
     "output_type": "execute_result"
    },
    {
     "data": {
      "image/png": "[encoded data removed]",
      "text/plain": [
       "<Figure size 1000x300 with 3 Axes>"
      ]
     },
     "metadata": {},
     "output_type": "display_data"
    }
   ],
   "source": [
    "fig, ax = plt.subplots(1,3,figsize=(10,3))\n",
    "ax[0].scatter(\n",
    "    warped_features_2[:,0], warped_features_2[:,1], c=labels_orig\n",
    ")\n",
    "ax[1].scatter(\n",
    "    warped_features_2[:,0], warped_features_2[:,2], c=labels_orig\n",
    ")\n",
    "ax[2].scatter(\n",
    "    warped_features_2[:,1], warped_features_2[:,2], c=labels_orig\n",
    ")"
   ]
  },
  {
   "cell_type": "markdown",
   "id": "fae9aa57",
   "metadata": {},
   "source": [
    "### Clients"
   ]
  },
  {
   "cell_type": "markdown",
   "id": "e74c3e72",
   "metadata": {},
   "source": [
    "### Preparing the data"
   ]
  },
  {
   "cell_type": "code",
   "execution_count": 12,
   "id": "0f6bbc5a",
   "metadata": {},
   "outputs": [],
   "source": [
    "X_train_C1, X_test_C1, y_train_C1, y_test_C1 = train_test_split(torch.tensor(warped_features_1), torch.tensor(labels_orig), test_size=0.2, random_state=42)\n",
    "X_train_C2, X_test_C2, y_train_C2, y_test_C2 = train_test_split(torch.tensor(warped_features_2), torch.tensor(labels_orig), test_size=0.2, random_state=42)"
   ]
  },
  {
   "cell_type": "code",
   "execution_count": 13,
   "id": "5109230d",
   "metadata": {},
   "outputs": [],
   "source": [
    "X_train_all_C1 = torch.utils.data.TensorDataset(torch.tensor(np.vstack(X_train_C1)), torch.tensor(np.hstack(y_train_C1)))\n",
    "X_test_all_C1 = torch.utils.data.TensorDataset(torch.tensor(np.vstack(X_test_C1)), torch.tensor(np.hstack(y_test_C1)))"
   ]
  },
  {
   "cell_type": "code",
   "execution_count": 14,
   "id": "08b581bd",
   "metadata": {},
   "outputs": [],
   "source": [
    "X_train_all_C2 = torch.utils.data.TensorDataset(torch.tensor(np.vstack(X_train_C2)), torch.tensor(np.hstack(y_train_C2)))\n",
    "X_test_all_C2 = torch.utils.data.TensorDataset(torch.tensor(np.vstack(X_test_C2)), torch.tensor(np.hstack(y_test_C2)))"
   ]
  },
  {
   "cell_type": "code",
   "execution_count": 15,
   "id": "9e62f383",
   "metadata": {},
   "outputs": [],
   "source": [
    "trainloader_C1= torch.utils.data.DataLoader(X_train_all_C1, batch_size=64, shuffle=True, num_workers=2)\n",
    "testloader_C1 = torch.utils.data.DataLoader(X_test_all_C1, batch_size=64, shuffle=False, num_workers=2)"
   ]
  },
  {
   "cell_type": "code",
   "execution_count": 16,
   "id": "56cc1ac7",
   "metadata": {},
   "outputs": [],
   "source": [
    "trainloader_C2 = torch.utils.data.DataLoader(X_train_all_C2, batch_size=64, shuffle=True, num_workers=2)\n",
    "testloader_C2 = torch.utils.data.DataLoader(X_test_all_C2, batch_size=64, shuffle=False, num_workers=2)"
   ]
  },
  {
   "cell_type": "code",
   "execution_count": 17,
   "id": "e94a3a16",
   "metadata": {},
   "outputs": [
    {
     "name": "stdout",
     "output_type": "stream",
     "text": [
      "torch.Size([64, 3]) torch.Size([64])\n"
     ]
    }
   ],
   "source": [
    "for images, labels in testloader_C1:\n",
    "    print(images.shape, labels.shape)\n",
    "    break"
   ]
  },
  {
   "cell_type": "code",
   "execution_count": 18,
   "id": "8f34add8",
   "metadata": {},
   "outputs": [
    {
     "name": "stdout",
     "output_type": "stream",
     "text": [
      "torch.Size([64, 3]) torch.Size([64])\n"
     ]
    }
   ],
   "source": [
    "for images, labels in testloader_C2:\n",
    "    print(images.shape, labels.shape)\n",
    "    break"
   ]
  },
  {
   "cell_type": "markdown",
   "id": "809f4b83",
   "metadata": {},
   "source": [
    "### Training"
   ]
  },
  {
   "cell_type": "markdown",
   "id": "e6ecf623",
   "metadata": {},
   "source": [
    "### ------------------------------------------------------------------SplitNN---------------------------------------------------------------------------------"
   ]
  },
  {
   "cell_type": "code",
   "execution_count": 19,
   "id": "6acd7d8b",
   "metadata": {},
   "outputs": [],
   "source": [
    "class Client1():\n",
    "    def __init__(self):\n",
    "        self.model = nn.Sequential(nn.Linear(3, 20, dtype=torch.float64),\n",
    "                                   nn.ReLU(),\n",
    "                                   nn.Linear(20, 10, dtype=torch.float64),\n",
    "                                   nn.ReLU())\n",
    "\n",
    "        self.optimizer = optim.SGD(self.model.parameters(), lr=1e-2, momentum=0.)\n",
    "        self.last_logits = None\n",
    "\n",
    "    def split_forward(self, batch): \n",
    "        self.optimizer.zero_grad()\n",
    "        self.last_logits = self.model(batch)\n",
    "        self.last_logits.retain_grad()\n",
    "        latent_parameters = list(self.model.parameters())\n",
    "        return self.last_logits.detach(), latent_parameters\n",
    "    \n",
    "    def split_backward(self, split_grad):\n",
    "        self.last_logits.backward(split_grad)\n",
    "        \n",
    "    def update(self, latent_parameters):\n",
    "        # Get the parameters of the latent model\n",
    "        latent_params = self.model.parameters()\n",
    "    \n",
    "        # Iterate over the parameters and update them with new values\n",
    "        for param, new_value in zip(latent_params, latent_parameters):\n",
    "            param.data.copy_(new_value)\n",
    "        \n",
    "    def debug_print(self):\n",
    "        #print('#####################')\n",
    "        #for name, param in self.model.named_parameters():\n",
    "            #print(f\"{name}\")\n",
    "            #print(f\"{param[:1]}\")\n",
    "            #print(f\"{param.grad if param.grad is None else param.grad[:1]}\")\n",
    "        #print(f\"last logits {self.last_logits[0,0,0,:5]}\"\n",
    "              #f\"grad {self.last_logits.grad if self.last_logits.grad is None else self.last_logits.grad[0,0,0,:5]}\")\n",
    "        print('#####################')"
   ]
  },
  {
   "cell_type": "code",
   "execution_count": 20,
   "id": "856b0489",
   "metadata": {},
   "outputs": [],
   "source": [
    "class Client2():\n",
    "    def __init__(self):\n",
    "        self.model = nn.Sequential(nn.Linear(3, 20, dtype=torch.float64),\n",
    "                                   nn.ReLU(),\n",
    "                                   nn.Linear(20, 10, dtype=torch.float64),\n",
    "                                   nn.ReLU())\n",
    "\n",
    "        self.optimizer = optim.SGD(self.model.parameters(), lr=1e-2, momentum=0.)\n",
    "        self.last_logits = None\n",
    "\n",
    "    def split_forward(self, batch): \n",
    "        self.optimizer.zero_grad()\n",
    "        self.last_logits = self.model(batch)\n",
    "        self.last_logits.retain_grad()\n",
    "        latent_parameters = list(self.model.parameters())\n",
    "        return self.last_logits.detach(), latent_parameters\n",
    "    \n",
    "    def split_backward(self, split_grad):\n",
    "        self.last_logits.backward(split_grad)\n",
    "        \n",
    "    def update(self, latent_parameters):\n",
    "        # Get the parameters of the latent model\n",
    "        latent_params = self.model.parameters()\n",
    "    \n",
    "        # Iterate over the parameters and update them with new values\n",
    "        for param, new_value in zip(latent_params, latent_parameters):\n",
    "            param.data.copy_(new_value)\n",
    "        \n",
    "    def debug_print(self):\n",
    "        #print('#####################')\n",
    "        #for name, param in self.model.named_parameters():\n",
    "            #print(f\"{name}\")\n",
    "            #print(f\"{param[:1]}\")\n",
    "            #print(f\"{param.grad if param.grad is None else param.grad[:1]}\")\n",
    "        #print(f\"last logits {self.last_logits[0,0,0,:5]}\"\n",
    "              #f\"grad {self.last_logits.grad if self.last_logits.grad is None else self.last_logits.grad[0,0,0,:5]}\")\n",
    "        print('#####################')"
   ]
  },
  {
   "cell_type": "code",
   "execution_count": 21,
   "id": "07659d23",
   "metadata": {},
   "outputs": [
    {
     "name": "stdout",
     "output_type": "stream",
     "text": [
      "WARNING:tensorflow:From C:\\Users\\Raffaele\\anaconda3\\Lib\\site-packages\\keras\\src\\losses.py:2976: The name tf.losses.sparse_softmax_cross_entropy is deprecated. Please use tf.compat.v1.losses.sparse_softmax_cross_entropy instead.\n",
      "\n",
      "WARNING:tensorflow:From C:\\Users\\Raffaele\\anaconda3\\Lib\\site-packages\\keras\\src\\backend.py:873: The name tf.get_default_graph is deprecated. Please use tf.compat.v1.get_default_graph instead.\n",
      "\n"
     ]
    }
   ],
   "source": [
    "client1_Split = Client1()\n",
    "client2_Split = Client2()\n",
    "class Server():\n",
    "    def __init__(self):\n",
    "        self.model = nn.Sequential(nn.Linear(10, 8, dtype=torch.float64),\n",
    "                                   nn.ReLU(),\n",
    "                                   nn.Linear(8, 5, dtype=torch.float64),\n",
    "                                   nn.ReLU(),\n",
    "                                   nn.Linear(5, 3, dtype=torch.float64),\n",
    "                                   nn.Softmax(dim=1))\n",
    "\n",
    "        #self.loss_function1 = nn.CrossEntropyLoss()\n",
    "        #self.optimizer1 = optim.SGD(self.model.parameters(), lr=1e-2, momentum=0.)\n",
    "        \n",
    "        self.loss_function = nn.CrossEntropyLoss()\n",
    "        self.optimizer = optim.SGD(self.model.parameters(), lr=1e-2, momentum=0.)\n",
    "        \n",
    "        \n",
    "        self.split_logits = None\n",
    "        self.loss = None\n",
    "        \n",
    "        #self.split_logits1 = None\n",
    "        #self.loss1 = None\n",
    "    \n",
    "    def split_forward(self, split_logits, labels):\n",
    "        self.optimizer.zero_grad()\n",
    "        \n",
    "        self.split_logits = split_logits\n",
    "        #self.split_logits = split_logits\n",
    "        self.split_logits.requires_grad_(True)\n",
    "        logits = self.model(self.split_logits)\n",
    "        self.loss = self.loss_function(logits, labels)\n",
    "        return logits\n",
    "    \n",
    "    def update(self, client1_logits, y_c1, client2_logits, y_c2):\n",
    "        #Server\n",
    "        _,  latent_parameters1 =  client1_Split.split_forward(client1_logits)\n",
    "        _, latent_parameters2 =  client2_Split.split_forward(client2_logits)\n",
    "        \n",
    "        latent_parameters =[(x + y) / 2 for x, y in zip(latent_parameters1, latent_parameters2)]\n",
    "        \n",
    "        client1_Split.update(latent_parameters)\n",
    "        client2_Split.update(latent_parameters)\n",
    "        \n",
    "    def split_backward(self):\n",
    "        self.loss.backward()\n",
    "        return self.split_logits.grad.detach()"
   ]
  },
  {
   "cell_type": "code",
   "execution_count": 22,
   "id": "11dbd559",
   "metadata": {},
   "outputs": [],
   "source": [
    "server = Server()\n",
    "\n",
    "#print(list(client.model.parameters())[0][:1])\n",
    "#print('--')\n",
    "\n",
    "n_epochs = 5\n",
    "for i in range(n_epochs):\n",
    "    for i, ((x_c1, y_c1), (x_c2, y_c2)) in enumerate(zip(trainloader_C1, trainloader_C2)):\n",
    "        #Clients\n",
    "        client1_logits, _ = client1_Split.split_forward(x_c1)\n",
    "        client2_logits, _  = client2_Split.split_forward(x_c2)\n",
    "        \n",
    "        #Server\n",
    "        ser1_logits =  server.split_forward(client1_logits, y_c1.long())\n",
    "        ser2_logits =  server.split_forward(client2_logits, y_c2.long())\n",
    "        server.update(x_c1, y_c1.long(), x_c2, y_c2.long())\n",
    "        \n",
    "        \n",
    "        split_grad = server.split_backward()\n",
    "        \n",
    "        client1_Split.split_backward(split_grad)\n",
    "        client2_Split.split_backward(split_grad)\n",
    "        \n",
    "        client1_Split.optimizer.step()\n",
    "        client2_Split.optimizer.step()\n",
    "        \n",
    "        server.optimizer.step()"
   ]
  },
  {
   "cell_type": "code",
   "execution_count": 23,
   "id": "6c05b5ca",
   "metadata": {},
   "outputs": [
    {
     "name": "stdout",
     "output_type": "stream",
     "text": [
      "Accuracy on test set 1: 50.48%\n",
      "Accuracy on test set 2: 50.48%\n"
     ]
    }
   ],
   "source": [
    "total_accuracy_1 = 0.0\n",
    "total_samples_1 = 0\n",
    "\n",
    "total_accuracy_2 = 0.0\n",
    "total_samples_2 = 0\n",
    "\n",
    "for i, ((x_c1, y_c1), (x_c2, y_c2)) in enumerate(zip(testloader_C1, testloader_C2)):\n",
    "    client1_logits, _ = client1_Split.split_forward(x_c1)\n",
    "    client2_logits, _ = client2_Split.split_forward(x_c2)\n",
    "    \n",
    "    ser_logits1 = server.split_forward(client1_logits, y_c1.long())\n",
    "    ser_logits2 = server.split_forward(client2_logits, y_c2.long())\n",
    "        \n",
    "    _, predictions_1 = torch.max(ser_logits1, 1)\n",
    "    _, predictions_2 = torch.max(ser_logits2, 1)\n",
    "        \n",
    "    acc_1 = torch.mean((predictions_1 == y_c1).float())\n",
    "    acc_2 = torch.mean((predictions_2 == y_c2).float())\n",
    "    \n",
    "    \n",
    "    total_accuracy_1 += acc_1.item() * x_c1.size(0)\n",
    "    total_samples_1 += x_c1.size(0)\n",
    "    \n",
    "    total_accuracy_2 += acc_2.item() * x_c2.size(0)\n",
    "    total_samples_2 += x_c2.size(0)\n",
    "\n",
    "final_accuracy_1 = total_accuracy_1 / total_samples_1\n",
    "final_accuracy_2 = total_accuracy_2 / total_samples_2\n",
    "print(f\"Accuracy on test set 1: {final_accuracy_1 * 100:.2f}%\")\n",
    "print(f\"Accuracy on test set 2: {final_accuracy_2 * 100:.2f}%\")"
   ]
  },
  {
   "attachments": {
    "image.png": {
     "image/png": "[encoded data removed]"
    }
   },
   "cell_type": "markdown",
   "id": "d6291953",
   "metadata": {},
   "source": [
    "![image.png](attachment:image.png)"
   ]
  }
 ],
 "metadata": {
  "kernelspec": {
   "display_name": "Python 3 (ipykernel)",
   "language": "python",
   "name": "python3"
  },
  "language_info": {
   "codemirror_mode": {
    "name": "ipython",
    "version": 3
   },
   "file_extension": ".py",
   "mimetype": "text/x-python",
   "name": "python",
   "nbconvert_exporter": "python",
   "pygments_lexer": "ipython3",
   "version": "3.11.4"
  }
 },
 "nbformat": 4,
 "nbformat_minor": 5
}
